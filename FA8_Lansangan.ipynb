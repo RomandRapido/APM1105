{
 "cells": [
  {
   "attachments": {},
   "cell_type": "markdown",
   "metadata": {},
   "source": [
    "Dependencies:   Pandas: pip install pandas; \n",
    "                Tabulate: pip install tabulate\n",
    "\n",
    "Also, if you don't see the full table, I believe you have to increase the size limit of the result window or something in the settings."
   ]
  },
  {
   "cell_type": "code",
   "execution_count": 18,
   "metadata": {},
   "outputs": [
    {
     "name": "stdout",
     "output_type": "stream",
     "text": [
      "╒══════════════════════════════════════════════════════════════════╕\n",
      "│ Descriptive Statistics                                           │\n",
      "╞══════════════════════════╤═══════════════════════════════════════╡\n",
      "│                          │                 salary                │\n",
      "╒══════════════════════════╤═════════════╤════════════╤════════════╕\n",
      "│                          │   AssocProf │   AsstProf │       Prof │\n",
      "╞══════════════════════════╪═════════════╪════════════╪════════════╡\n",
      "│ Valid                    │      13.000 │     19.000 │     46.000 │\n",
      "├──────────────────────────┼─────────────┼────────────┼────────────┤\n",
      "│ Missing                  │       0.000 │      0.000 │      0.000 │\n",
      "├──────────────────────────┼─────────────┼────────────┼────────────┤\n",
      "│ Median                   │  103613.000 │  78500.000 │ 123321.500 │\n",
      "├──────────────────────────┼─────────────┼────────────┼────────────┤\n",
      "│ Mean                     │   91786.231 │  81362.789 │ 123624.804 │\n",
      "├──────────────────────────┼─────────────┼────────────┼────────────┤\n",
      "│ Std. Error of Mean       │    5150.720 │   2152.205 │   3663.975 │\n",
      "├──────────────────────────┼─────────────┼────────────┼────────────┤\n",
      "│ Std. Deviation           │   18571.184 │   9381.245 │  24850.288 │\n",
      "├──────────────────────────┼─────────────┼────────────┼────────────┤\n",
      "│ Coefficient of variation │       0.202 │      0.115 │      0.201 │\n",
      "├──────────────────────────┼─────────────┼────────────┼────────────┤\n",
      "│ Skewness                 │      -0.151 │      0.031 │      0.070 │\n",
      "├──────────────────────────┼─────────────┼────────────┼────────────┤\n",
      "│ Std. Error of Skewness   │       0.616 │      0.524 │      0.350 │\n",
      "├──────────────────────────┼─────────────┼────────────┼────────────┤\n",
      "│ Kurtosis                 │      -1.614 │     -1.011 │      0.201 │\n",
      "├──────────────────────────┼─────────────┼────────────┼────────────┤\n",
      "│ Std. Error of Kurtosis   │       1.191 │      1.014 │      0.688 │\n",
      "├──────────────────────────┼─────────────┼────────────┼────────────┤\n",
      "│ Minimum                  │   62884.000 │  63100.000 │  57800.000 │\n",
      "├──────────────────────────┼─────────────┼────────────┼────────────┤\n",
      "│ Maximum                  │  119800.000 │  97032.000 │ 186960.000 │\n",
      "├──────────────────────────┼─────────────┼────────────┼────────────┤\n",
      "│ 25th percentile          │   74830.000 │  74096.000 │ 105112.500 │\n",
      "├──────────────────────────┼─────────────┼────────────┼────────────┤\n",
      "│ 50th percentile          │  103613.000 │  78500.000 │ 123321.500 │\n",
      "├──────────────────────────┼─────────────┼────────────┼────────────┤\n",
      "│ 75th percentile          │  104542.000 │  91150.000 │ 143512.250 │\n",
      "├──────────────────────────┼─────────────┼────────────┼────────────┤\n",
      "│ 10th percentile          │   71512.000 │  72500.000 │  93675.000 │\n",
      "├──────────────────────────┼─────────────┼────────────┼────────────┤\n",
      "│ 20th percentile          │   73912.000 │  73300.000 │ 103275.000 │\n",
      "├──────────────────────────┼─────────────┼────────────┼────────────┤\n",
      "│ 30th percentile          │   76432.000 │  74832.800 │ 108473.000 │\n",
      "├──────────────────────────┼─────────────┼────────────┼────────────┤\n",
      "│ 40th percentile          │   80528.000 │  77100.000 │ 116450.000 │\n",
      "├──────────────────────────┼─────────────┼────────────┼────────────┤\n",
      "│ 50th percentile          │  103613.000 │  78500.000 │ 123321.500 │\n",
      "├──────────────────────────┼─────────────┼────────────┼────────────┤\n",
      "│ 60th percentile          │  103798.800 │  84045.000 │ 127512.000 │\n",
      "├──────────────────────────┼─────────────┼────────────┼────────────┤\n",
      "│ 70th percentile          │  104213.200 │  89800.000 │ 135889.000 │\n",
      "├──────────────────────────┼─────────────┼────────────┼────────────┤\n",
      "│ 80th percentile          │  106021.600 │  91580.000 │ 148750.000 │\n",
      "├──────────────────────────┼─────────────┼────────────┼────────────┤\n",
      "│ 90th percentile          │  109121.600 │  92000.000 │ 154750.000 │\n",
      "╘══════════════════════════╧═════════════╧════════════╧════════════╛\n"
     ]
    }
   ],
   "source": [
    "import pandas as pd\n",
    "from tabulate import tabulate\n",
    "print(\"╒══════════════════════════════════════════════════════════════════╕\")\n",
    "print(\"│ Descriptive Statistics                                           │\")\n",
    "print(\"╞══════════════════════════╤═══════════════════════════════════════╡\")\n",
    "print(\"│                          │                 salary                │\")\n",
    "df = pd.read_csv(\"https://raw.githubusercontent.com/Apress/data-analysis-and-visualization-using-python/master/Ch07/Salaries.csv\")\n",
    "grouped = df.groupby('rank')['salary']\n",
    "valid = grouped.size().rename('Valid')\n",
    "missing = grouped.apply(lambda x: x.isna().sum()).rename('Missing')\n",
    "median = grouped.median().rename('Median')\n",
    "mean = grouped.mean().rename('Mean')\n",
    "sem = grouped.sem().rename('Std. Error of Mean')\n",
    "std = grouped.std().rename('Std. Deviation')\n",
    "cv = std / mean\n",
    "cv.name = 'Coefficient of variation'\n",
    "skew = grouped.skew().rename('Skewness')\n",
    "stdSkew = grouped.apply(lambda x: (((6 * x.count() * (x.count() - 1)) / ((x.count() - 2) * (x.count() + 1) * (x.count() + 3)))**0.5)).rename('Std. Error of Skewness')\n",
    "kurt = grouped.apply(lambda x: x.kurt()).rename('Kurtosis')\n",
    "stdKurt = grouped.apply(lambda x: (((24 * x.count() * (x.count() - 1)**2) / ((x.count() - 2) * (x.count() - 3) * (x.count() + 3) * (x.count() + 5)))**0.5)).rename('Std. Error of Kurtosis')\n",
    "minimum = grouped.min().rename('Minimum')\n",
    "maximum = grouped.max().rename('Maximum')\n",
    "percentiles = [0.25, 0.50, 0.75, 0.10, 0.20, 0.30, 0.40, 0.50, 0.60, 0.70, 0.80, 0.90]\n",
    "quartiles_list = [group.quantile(percentiles).rename(rank) for rank, group in grouped]\n",
    "quartiles = pd.concat(quartiles_list, axis=1).transpose()\n",
    "quartiles.columns = ['25th percentile', '50th percentile', '75th percentile', '10th percentile', '20th percentile', '30th percentile', '40th percentile', '50th percentile', '60th percentile', '70th percentile', '80th percentile', '90th percentile']\n",
    "\n",
    "result = pd.concat([valid, missing, median, mean, sem, std, cv, skew, stdSkew, kurt, stdKurt, minimum, maximum, quartiles], axis=1).transpose()\n",
    "print(tabulate(result, headers='keys', tablefmt='fancy_grid', floatfmt=\".3f\"))\n"
   ]
  }
 ],
 "metadata": {
  "kernelspec": {
   "display_name": "Python 3",
   "language": "python",
   "name": "python3"
  },
  "language_info": {
   "codemirror_mode": {
    "name": "ipython",
    "version": 3
   },
   "file_extension": ".py",
   "mimetype": "text/x-python",
   "name": "python",
   "nbconvert_exporter": "python",
   "pygments_lexer": "ipython3",
   "version": "3.10.10"
  }
 },
 "nbformat": 4,
 "nbformat_minor": 2
}
