{
 "cells": [
  {
   "attachments": {},
   "cell_type": "markdown",
   "metadata": {},
   "source": [
    "1) Write a Python function to multiply all the numbers in a list.\n",
    "\n",
    "Sample List : (5, 6, -1, 2, 4, -2, -10, 7)\n",
    "\n",
    " *Note: I made it a list instead of a tuple just for the sake of following the instruction"
   ]
  },
  {
   "attachments": {},
   "cell_type": "markdown",
   "metadata": {},
   "source": [
    "The function:"
   ]
  },
  {
   "cell_type": "code",
   "execution_count": 24,
   "metadata": {},
   "outputs": [],
   "source": [
    "from math import prod\n",
    "def list_values_product(list):\n",
    "    product = prod(list)\n",
    "    return product"
   ]
  },
  {
   "attachments": {},
   "cell_type": "markdown",
   "metadata": {},
   "source": [
    "Testing the funtion:"
   ]
  },
  {
   "cell_type": "code",
   "execution_count": 25,
   "metadata": {},
   "outputs": [
    {
     "data": {
      "text/plain": [
       "-33600"
      ]
     },
     "execution_count": 25,
     "metadata": {},
     "output_type": "execute_result"
    }
   ],
   "source": [
    "sample_list = [5, 6, -1, 2, 4, -2, -10, 7]\n",
    "list_values_product(sample_list)"
   ]
  },
  {
   "attachments": {},
   "cell_type": "markdown",
   "metadata": {},
   "source": [
    "2) Write a function that draws a grid like the following:\n",
    "    *grid\n",
    "\n",
    "        *Note: I made two versions."
   ]
  },
  {
   "attachments": {},
   "cell_type": "markdown",
   "metadata": {},
   "source": [
    "            2a) The funtion of the efficient and simple grid design."
   ]
  },
  {
   "cell_type": "code",
   "execution_count": 26,
   "metadata": {},
   "outputs": [],
   "source": [
    "def simple_grid_generator():\n",
    "    for row in range(21):\n",
    "        for col in range(21):\n",
    "            if row % 5 == 0:\n",
    "                if col % 5 == 0:\n",
    "                    print(\"+\", end=' ')\n",
    "                else:\n",
    "                    print(\"-\", end=' ')\n",
    "            else:\n",
    "                if col % 5 == 0:\n",
    "                    print(\"|\", end=' ')\n",
    "                else:\n",
    "                    print(\" \", end=' ')\n",
    "        print(\"\")"
   ]
  },
  {
   "cell_type": "markdown",
   "metadata": {},
   "source": [
    "                Testing the funtion:"
   ]
  },
  {
   "cell_type": "code",
   "execution_count": 27,
   "metadata": {},
   "outputs": [
    {
     "name": "stdout",
     "output_type": "stream",
     "text": [
      "+ - - - - + - - - - + - - - - + - - - - + \n",
      "|         |         |         |         | \n",
      "|         |         |         |         | \n",
      "|         |         |         |         | \n",
      "|         |         |         |         | \n",
      "+ - - - - + - - - - + - - - - + - - - - + \n",
      "|         |         |         |         | \n",
      "|         |         |         |         | \n",
      "|         |         |         |         | \n",
      "|         |         |         |         | \n",
      "+ - - - - + - - - - + - - - - + - - - - + \n",
      "|         |         |         |         | \n",
      "|         |         |         |         | \n",
      "|         |         |         |         | \n",
      "|         |         |         |         | \n",
      "+ - - - - + - - - - + - - - - + - - - - + \n",
      "|         |         |         |         | \n",
      "|         |         |         |         | \n",
      "|         |         |         |         | \n",
      "|         |         |         |         | \n",
      "+ - - - - + - - - - + - - - - + - - - - + \n"
     ]
    }
   ],
   "source": [
    "simple_grid_generator()"
   ]
  },
  {
   "cell_type": "markdown",
   "metadata": {},
   "source": [
    "            2b) The gradiose grid but storage space consuming design."
   ]
  },
  {
   "cell_type": "code",
   "execution_count": 30,
   "metadata": {},
   "outputs": [],
   "source": [
    "def complex_grid_generator():\n",
    "    for row in range(21):\n",
    "        for col in range(21):\n",
    "            if row % 5 == 0:                        #every 5th row\n",
    "                if row == 0:                        #first row\n",
    "                    if col % 5 == 0:                #every 5th column\n",
    "                        if col != 20:\n",
    "                            print(\"╔═\", end='')\n",
    "                        else:                       #last column\n",
    "                            print(\"╗\", end='')\n",
    "                    else:\n",
    "                        print(\"══\", end='')\n",
    "                elif row != 0 and row != 20:        #mid rows\n",
    "                    if col % 5 == 0:                #every 5th column\n",
    "                        if col != 20:\n",
    "                            print(\"╠═\", end='')\n",
    "                        else:                      #last column\n",
    "                            print(\"╣\", end='')\n",
    "                    else:\n",
    "                        print(\"══\", end='')\n",
    "                else:                              #last row\n",
    "                    if col % 5 == 0:               #every 5th column\n",
    "                        if col != 20:\n",
    "                            print(\"╚═\", end='')\n",
    "                        else:                      #last column\n",
    "                            print(\"╝\", end='')\n",
    "                    else:\n",
    "                        print(\"══\", end='')\n",
    "            else:                                 #if not included in every 5th row\n",
    "                if col % 5 == 0:                  #every 5th column\n",
    "                    print(\"║\", end=' ')\n",
    "                else:\n",
    "                    print(\" \", end=' ')\n",
    "        print(\"\")"
   ]
  },
  {
   "attachments": {},
   "cell_type": "markdown",
   "metadata": {},
   "source": [
    "                Testing the function:"
   ]
  },
  {
   "cell_type": "code",
   "execution_count": 31,
   "metadata": {},
   "outputs": [
    {
     "name": "stdout",
     "output_type": "stream",
     "text": [
      "╔═════════╔═════════╔═════════╔═════════╗\n",
      "║         ║         ║         ║         ║ \n",
      "║         ║         ║         ║         ║ \n",
      "║         ║         ║         ║         ║ \n",
      "║         ║         ║         ║         ║ \n",
      "╠═════════╠═════════╠═════════╠═════════╣\n",
      "║         ║         ║         ║         ║ \n",
      "║         ║         ║         ║         ║ \n",
      "║         ║         ║         ║         ║ \n",
      "║         ║         ║         ║         ║ \n",
      "╠═════════╠═════════╠═════════╠═════════╣\n",
      "║         ║         ║         ║         ║ \n",
      "║         ║         ║         ║         ║ \n",
      "║         ║         ║         ║         ║ \n",
      "║         ║         ║         ║         ║ \n",
      "╠═════════╠═════════╠═════════╠═════════╣\n",
      "║         ║         ║         ║         ║ \n",
      "║         ║         ║         ║         ║ \n",
      "║         ║         ║         ║         ║ \n",
      "║         ║         ║         ║         ║ \n",
      "╚═════════╚═════════╚═════════╚═════════╝\n"
     ]
    }
   ],
   "source": [
    "complex_grid_generator()"
   ]
  },
  {
   "attachments": {},
   "cell_type": "markdown",
   "metadata": {},
   "source": [
    "            2c) The grid that uses the user character input."
   ]
  },
  {
   "cell_type": "code",
   "execution_count": 32,
   "metadata": {},
   "outputs": [],
   "source": [
    "def simple_grid_generator_custom(symbols):\n",
    "    for row in range(21):\n",
    "        for col in range(21):\n",
    "            if row % 5 == 0:\n",
    "                if col % 5 == 0:\n",
    "                    print(symbols[0], end=' ')\n",
    "                else:\n",
    "                    print(symbols[1], end=' ')\n",
    "            else:\n",
    "                if col % 5 == 0:\n",
    "                    print(symbols[2], end=' ')\n",
    "                else:\n",
    "                    print(\" \", end=' ')\n",
    "        print(\"\")"
   ]
  },
  {
   "attachments": {},
   "cell_type": "markdown",
   "metadata": {},
   "source": [
    "                Testing the function and input codes:"
   ]
  },
  {
   "cell_type": "code",
   "execution_count": 33,
   "metadata": {},
   "outputs": [
    {
     "name": "stdout",
     "output_type": "stream",
     "text": [
      "1 2 2 2 2 1 2 2 2 2 1 2 2 2 2 1 2 2 2 2 1 \n",
      "3         3         3         3         3 \n",
      "3         3         3         3         3 \n",
      "3         3         3         3         3 \n",
      "3         3         3         3         3 \n",
      "1 2 2 2 2 1 2 2 2 2 1 2 2 2 2 1 2 2 2 2 1 \n",
      "3         3         3         3         3 \n",
      "3         3         3         3         3 \n",
      "3         3         3         3         3 \n",
      "3         3         3         3         3 \n",
      "1 2 2 2 2 1 2 2 2 2 1 2 2 2 2 1 2 2 2 2 1 \n",
      "3         3         3         3         3 \n",
      "3         3         3         3         3 \n",
      "3         3         3         3         3 \n",
      "3         3         3         3         3 \n",
      "1 2 2 2 2 1 2 2 2 2 1 2 2 2 2 1 2 2 2 2 1 \n",
      "3         3         3         3         3 \n",
      "3         3         3         3         3 \n",
      "3         3         3         3         3 \n",
      "3         3         3         3         3 \n",
      "1 2 2 2 2 1 2 2 2 2 1 2 2 2 2 1 2 2 2 2 1 \n"
     ]
    }
   ],
   "source": [
    "while True:\n",
    "    symbols = input(\"Input (maximum of) three characters to use in the grid lines\")\n",
    "    symbols_list = [i for i in symbols if len(symbols)<=3]\n",
    "    if len(symbols_list) == 0:\n",
    "        print(\"ERROR: you input more than 3 characters\")\n",
    "    else:\n",
    "        simple_grid_generator_custom(symbols_list)\n",
    "        break"
   ]
  }
 ],
 "metadata": {
  "kernelspec": {
   "display_name": "Python 3",
   "language": "python",
   "name": "python3"
  },
  "language_info": {
   "codemirror_mode": {
    "name": "ipython",
    "version": 3
   },
   "file_extension": ".py",
   "mimetype": "text/x-python",
   "name": "python",
   "nbconvert_exporter": "python",
   "pygments_lexer": "ipython3",
   "version": "3.10.6"
  },
  "orig_nbformat": 4,
  "vscode": {
   "interpreter": {
    "hash": "26de051ba29f2982a8de78e945f0abaf191376122a1563185a90213a26c5da77"
   }
  }
 },
 "nbformat": 4,
 "nbformat_minor": 2
}
