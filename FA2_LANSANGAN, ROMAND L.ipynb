{
 "cells": [
  {
   "attachments": {},
   "cell_type": "markdown",
   "metadata": {},
   "source": [
    "1. Write a Python function to multiply all the numbers in a list.\n",
    "\n",
    "    Sample List : (5, 6, -1, 2, 4, -2, -10, 7)\n",
    "    \n",
    "        *Note: I made it a list instead of a tuple just for the sake of following the instruction"
   ]
  },
  {
   "cell_type": "code",
   "execution_count": 1,
   "metadata": {},
   "outputs": [
    {
     "data": {
      "text/plain": [
       "-33600"
      ]
     },
     "execution_count": 1,
     "metadata": {},
     "output_type": "execute_result"
    }
   ],
   "source": [
    "from math import prod\n",
    "sample_list = [5, 6, -1, 2, 4, -2, -10, 7]\n",
    "product = prod(sample_list)\n",
    "product"
   ]
  },
  {
   "attachments": {},
   "cell_type": "markdown",
   "metadata": {},
   "source": [
    "2. Write a function that draws a grid like the following:\n",
    "*grid\n",
    "    \n",
    "    *Note: I made two versions."
   ]
  },
  {
   "attachments": {},
   "cell_type": "markdown",
   "metadata": {},
   "source": [
    "    a) The efficient and simple grid design."
   ]
  },
  {
   "cell_type": "code",
   "execution_count": 2,
   "metadata": {},
   "outputs": [
    {
     "name": "stdout",
     "output_type": "stream",
     "text": [
      "+ - - - - + - - - - + - - - - + - - - - + \n",
      "|         |         |         |         | \n",
      "|         |         |         |         | \n",
      "|         |         |         |         | \n",
      "|         |         |         |         | \n",
      "+ - - - - + - - - - + - - - - + - - - - + \n",
      "|         |         |         |         | \n",
      "|         |         |         |         | \n",
      "|         |         |         |         | \n",
      "|         |         |         |         | \n",
      "+ - - - - + - - - - + - - - - + - - - - + \n",
      "|         |         |         |         | \n",
      "|         |         |         |         | \n",
      "|         |         |         |         | \n",
      "|         |         |         |         | \n",
      "+ - - - - + - - - - + - - - - + - - - - + \n",
      "|         |         |         |         | \n",
      "|         |         |         |         | \n",
      "|         |         |         |         | \n",
      "|         |         |         |         | \n",
      "+ - - - - + - - - - + - - - - + - - - - + \n"
     ]
    }
   ],
   "source": [
    "for row in range(21):\n",
    "    for col in range(21):\n",
    "        if row % 5 == 0:\n",
    "            if col % 5 == 0:\n",
    "                print(\"+\", end=' ')\n",
    "            else:\n",
    "                print(\"-\", end=' ')\n",
    "        else:\n",
    "            if col % 5 == 0:\n",
    "                print(\"|\", end=' ')\n",
    "            else:\n",
    "                print(\" \", end=' ')\n",
    "    print(\"\")"
   ]
  },
  {
   "attachments": {},
   "cell_type": "markdown",
   "metadata": {},
   "source": [
    "    b) The gradiose grid design but storage space consuming."
   ]
  },
  {
   "cell_type": "code",
   "execution_count": 3,
   "metadata": {},
   "outputs": [
    {
     "name": "stdout",
     "output_type": "stream",
     "text": [
      "╔═════════╔═════════╔═════════╔═════════╗\n",
      "║         ║         ║         ║         ║ \n",
      "║         ║         ║         ║         ║ \n",
      "║         ║         ║         ║         ║ \n",
      "║         ║         ║         ║         ║ \n",
      "╠═════════╠═════════╠═════════╠═════════╣\n",
      "║         ║         ║         ║         ║ \n",
      "║         ║         ║         ║         ║ \n",
      "║         ║         ║         ║         ║ \n",
      "║         ║         ║         ║         ║ \n",
      "╠═════════╠═════════╠═════════╠═════════╣\n",
      "║         ║         ║         ║         ║ \n",
      "║         ║         ║         ║         ║ \n",
      "║         ║         ║         ║         ║ \n",
      "║         ║         ║         ║         ║ \n",
      "╠═════════╠═════════╠═════════╠═════════╣\n",
      "║         ║         ║         ║         ║ \n",
      "║         ║         ║         ║         ║ \n",
      "║         ║         ║         ║         ║ \n",
      "║         ║         ║         ║         ║ \n",
      "╚═════════╚═════════╚═════════╚═════════╝\n"
     ]
    }
   ],
   "source": [
    "for row in range(21):\n",
    "    for col in range(21):\n",
    "        if row % 5 == 0:                        #every 5th row\n",
    "            if row == 0:                        #first row\n",
    "                if col % 5 == 0:                #every 5th column\n",
    "                    if col != 20:\n",
    "                        print(\"╔═\", end='')\n",
    "                    else:                       #last column\n",
    "                        print(\"╗\", end='')\n",
    "                else:\n",
    "                    print(\"══\", end='')\n",
    "            elif row != 0 and row != 20:        #mid rows\n",
    "                if col % 5 == 0:                #every 5th column\n",
    "                    if col != 20:\n",
    "                        print(\"╠═\", end='')\n",
    "                    else:                      #last column\n",
    "                        print(\"╣\", end='')\n",
    "                else:\n",
    "                    print(\"══\", end='')\n",
    "            else:                              #last row\n",
    "                if col % 5 == 0:               #every 5th column\n",
    "                    if col != 20:\n",
    "                        print(\"╚═\", end='')\n",
    "                    else:                      #last column\n",
    "                        print(\"╝\", end='')\n",
    "                else:\n",
    "                    print(\"══\", end='')\n",
    "        else:                                 #if not included in every 5th row\n",
    "            if col % 5 == 0:                  #every 5th column\n",
    "                print(\"║\", end=' ')\n",
    "            else:\n",
    "                print(\" \", end=' ')\n",
    "    print(\"\")"
   ]
  }
 ],
 "metadata": {
  "kernelspec": {
   "display_name": "Python 3",
   "language": "python",
   "name": "python3"
  },
  "language_info": {
   "codemirror_mode": {
    "name": "ipython",
    "version": 3
   },
   "file_extension": ".py",
   "mimetype": "text/x-python",
   "name": "python",
   "nbconvert_exporter": "python",
   "pygments_lexer": "ipython3",
   "version": "3.10.10"
  },
  "orig_nbformat": 4,
  "vscode": {
   "interpreter": {
    "hash": "aebfeea7c6c413063e4b9acd99176256f9d4aad285833f65d740fcdd8748523a"
   }
  }
 },
 "nbformat": 4,
 "nbformat_minor": 2
}
