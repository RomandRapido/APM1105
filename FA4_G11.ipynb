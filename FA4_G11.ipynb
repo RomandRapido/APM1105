{
 "cells": [
  {
   "attachments": {},
   "cell_type": "markdown",
   "metadata": {},
   "source": [
    "Write a function named ack that evaluates the Ackermann function. Use your function to evaluate ack(2,4). What happens for larger values of m and n?"
   ]
  },
  {
   "cell_type": "code",
   "execution_count": 1,
   "metadata": {},
   "outputs": [
    {
     "name": "stdout",
     "output_type": "stream",
     "text": [
      "ack(2, 4) = 11\n"
     ]
    }
   ],
   "source": [
    "def ack(m, n):\n",
    "    if m == 0:\n",
    "        return n + 1\n",
    "    elif n == 0:\n",
    "        return ack(m - 1, 1)\n",
    "    else:\n",
    "        return ack(m - 1, ack(m, n - 1))\n",
    "\n",
    "m = int(input(\"Enter the first number: \"))\n",
    "n = int(input(\"Enter the second number: \"))\n",
    "#we only accept integers here for it will crash when we evaluat floats\n",
    "print(f'ack({m}, {n}) = {ack(m,n)}')"
   ]
  },
  {
   "attachments": {},
   "cell_type": "markdown",
   "metadata": {},
   "source": [
    "Answer to the question:\n",
    "What happens for larger values of m and n?\n",
    "    The python and kernel couldn't process the amout of recurcion due to the heavy nature of it. Resulting to error"
   ]
  },
  {
   "attachments": {},
   "cell_type": "markdown",
   "metadata": {},
   "source": [
    "A number, a is a power of b if it is divisible by b and a/b is a power of b. Write a function called is_power that takes parameters a and b and returns True if a is a power of b. Note: you will have to think about a base case."
   ]
  },
  {
   "cell_type": "code",
   "execution_count": 4,
   "metadata": {},
   "outputs": [
    {
     "name": "stdout",
     "output_type": "stream",
     "text": [
      "is_power(8.0, 2.0) = True\n"
     ]
    }
   ],
   "source": [
    "def is_power(a, b):\n",
    "    a = float(a)\n",
    "    b = float(b)\n",
    "    if '.0' != str(a)[-2:]:\n",
    "        while True:\n",
    "            if '.0' == str(a)[-2:]:\n",
    "                break\n",
    "            else:\n",
    "                a = a*10\n",
    "    if '.0' != str(b)[-2:]:\n",
    "        while True:\n",
    "            if '.0' == str(b)[-2:]:\n",
    "                break\n",
    "            else:\n",
    "                b = b*10\n",
    "    if a==b:\n",
    "        return True\n",
    "    elif a%b == 0:\n",
    "        return is_power(a/b, b)\n",
    "    else:\n",
    "        return False\n",
    "\n",
    "a = float(input(\"Enter the first number: \"))\n",
    "b = float(input(\"Enter the second number: \"))\n",
    "print(f'is_power({a}, {b}) = {is_power(a,b)}')"
   ]
  },
  {
   "cell_type": "code",
   "execution_count": null,
   "metadata": {},
   "outputs": [],
   "source": []
  }
 ],
 "metadata": {
  "kernelspec": {
   "display_name": "Python 3",
   "language": "python",
   "name": "python3"
  },
  "language_info": {
   "codemirror_mode": {
    "name": "ipython",
    "version": 3
   },
   "file_extension": ".py",
   "mimetype": "text/x-python",
   "name": "python",
   "nbconvert_exporter": "python",
   "pygments_lexer": "ipython3",
   "version": "3.10.6"
  },
  "orig_nbformat": 4,
  "vscode": {
   "interpreter": {
    "hash": "26de051ba29f2982a8de78e945f0abaf191376122a1563185a90213a26c5da77"
   }
  }
 },
 "nbformat": 4,
 "nbformat_minor": 2
}
