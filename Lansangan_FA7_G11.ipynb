{
 "cells": [
  {
   "cell_type": "code",
   "execution_count": 5,
   "metadata": {},
   "outputs": [
    {
     "name": "stdout",
     "output_type": "stream",
     "text": [
      "True\n",
      "False\n",
      "False\n"
     ]
    }
   ],
   "source": [
    "class Circle:\n",
    "    center = (0.0,0.0)\n",
    "    radius = 1.0 #random value to indicate the data type\n",
    "    def point_in_circle(circle, point):\n",
    "        first_point = circle.center\n",
    "        circle_radius = circle.radius\n",
    "        second_point = point\n",
    "        distance = ((second_point[0]-first_point[0])**2+(second_point[1]-first_point[1])**2)**0.5\n",
    "        if circle_radius >= distance:\n",
    "            return True\n",
    "        else:\n",
    "            return False\n",
    "        \n",
    "    def rect_in_circle(circle, rect):\n",
    "        if Circle.point_in_circle(circle, (rect['x_corner'], rect['y_corner'])):\n",
    "            if Circle.point_in_circle(circle, (rect['x_corner']+rect['width'], rect['y_corner']+rect['height'])): #(x,y) of right-top corner\n",
    "                return True\n",
    "            #if both the left-bottom corner and right-top corner are inside the circle, then the whole rectangle is inside the circle\n",
    "            else:\n",
    "                return False\n",
    "        else:\n",
    "            return False\n",
    "\n",
    "    def rect_circle_overlap(circle, rect):\n",
    "        if Circle.rect_in_circle(circle, rect):\n",
    "            return True\n",
    "        #defining each corner of the rectangle, starting with left-bottom, then right-bottom, followed by left-top, and finally right-top corner\n",
    "        edges_rect = ((rect['x_corner'], rect['y_corner']),(rect['x_corner']+rect['width'], rect['y_corner']),(rect['x_corner'], rect['y_corner']+rect['height']),(rect['x_corner']+rect['width'], rect['y_corner']+rect['height']))\n",
    "        #checks if any corner of rectangle is inside the circle\n",
    "        for edge in edges_rect:\n",
    "            if Circle.point_in_circle(circle, edge):\n",
    "                return True\n",
    "        return False\n",
    "    \n",
    "\n",
    "c = Circle()\n",
    "c.center = (150.0, 100.0)\n",
    "c.radius = 75.0\n",
    "rect = {'width':180.0, 'height':60.0, 'x_corner': 40.0, 'y_corner': -20.0} #the corner indicated here is the (x,y) of left-bottom corner\n",
    "print(Circle.point_in_circle(c, (100,120)))\n",
    "print(Circle.rect_in_circle(c,rect))\n",
    "print(Circle.rect_circle_overlap(c, rect))"
   ]
  }
 ],
 "metadata": {
  "kernelspec": {
   "display_name": "Python 3",
   "language": "python",
   "name": "python3"
  },
  "language_info": {
   "codemirror_mode": {
    "name": "ipython",
    "version": 3
   },
   "file_extension": ".py",
   "mimetype": "text/x-python",
   "name": "python",
   "nbconvert_exporter": "python",
   "pygments_lexer": "ipython3",
   "version": "3.10.10"
  },
  "orig_nbformat": 4
 },
 "nbformat": 4,
 "nbformat_minor": 2
}
