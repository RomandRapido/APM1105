{
 "cells": [
  {
   "attachments": {},
   "cell_type": "markdown",
   "metadata": {},
   "source": [
    "1. Write a Python program to print the even numbers from a given list.\n",
    "list1 = [1, 2, 3, 4, 5, 6, 7, 8, 9, 10, 11, 13, 15, 17, 19, 24, 26, 28, 30, 323]"
   ]
  },
  {
   "cell_type": "code",
   "execution_count": 53,
   "metadata": {},
   "outputs": [
    {
     "name": "stdout",
     "output_type": "stream",
     "text": [
      "[2, 4, 6, 8, 10, 24, 26, 28, 30]\n"
     ]
    }
   ],
   "source": [
    "list1 = [1, 2, 3, 4, 5, 6, 7, 8, 9, 10, 11, 13, 15, 17, 19, 24, 26, 28, 30, 323]\n",
    "even = [ i for i in list1 if i%2 == 0 ]\n",
    "print(even)"
   ]
  },
  {
   "cell_type": "markdown",
   "metadata": {},
   "source": [
    "2. Generate a Python list of all the even numbers between 10 to 60."
   ]
  },
  {
   "cell_type": "code",
   "execution_count": 64,
   "metadata": {},
   "outputs": [
    {
     "name": "stdout",
     "output_type": "stream",
     "text": [
      "[10, 12, 14, 16, 18, 20, 22, 24, 26, 28, 30, 32, 34, 36, 38, 40, 42, 44, 46, 48, 50, 52, 54, 56, 58, 60]\n"
     ]
    }
   ],
   "source": [
    "even_list = [num for num in range(10,60+1) if num%2==0]\n",
    "print(even_list)"
   ]
  },
  {
   "attachments": {},
   "cell_type": "markdown",
   "metadata": {},
   "source": [
    "3. Write a program to create a function show_feu_professor() using the following conditions:\n",
    "    It should accept the professor’s name and salary and display both.\n",
    "    If the salary is missing in the function call then assign default value 70000 to salary"
   ]
  },
  {
   "cell_type": "code",
   "execution_count": 63,
   "metadata": {},
   "outputs": [
    {
     "name": "stdout",
     "output_type": "stream",
     "text": [
      "The initial database: \n",
      "NAME: MASTER BUTEN\tSALARY: 69000\n",
      "NAME: THE PROFESSOR\tSALARY: 80000\n",
      "NAME: ZION WILLIAMSON\tSALARY: 460000\n",
      "NAME: LEBRON JAMES\tSALARY: 3200000\n",
      "NAME: MISTER OLAF III\tSALARY: 5000000\n",
      "Name of the professor not found in database\n",
      "\n",
      "NAME: MASTER BUTEN\tSALARY: 69000\n",
      "NAME: THE PROFESSOR\tSALARY: 80000\n",
      "NAME: ZION WILLIAMSON\tSALARY: 460000\n",
      "NAME: LEBRON JAMES\tSALARY: 3200000\n",
      "NAME: MISTER OLAF III\tSALARY: 5000000\n",
      "NAME: JOHN CENA JR\tSALARY: 68000\n",
      "NAME: LEBRON JAMES II\tSALARY: 90000\n",
      "NAME: STEPHEN CURRY\tSALARY: 80000\n",
      "NAME: STEVEN ADAM\tSALARY: 70000\n",
      "NAME: LUKA DONCIC\tSALARY: 80000\n",
      "NAME: REY MAGDAYO\tSALARY: 75000\n",
      "NAME: LOK LOK LOK\tSALARY: 411414\n",
      "NAME: DFGAFAFA\tSALARY: 70000\n"
     ]
    }
   ],
   "source": [
    "def show_feu_professor(prof_dictionary, prof_name=None, prof_salary=None, limit=5):\n",
    "    counter = 0\n",
    "    if prof_name is not None and prof_salary is not None:\n",
    "        if prof_salary is None or prof_name not in prof_dictionary:\n",
    "            prof_dictionary[prof_name] = 70000\n",
    "    for key, value in prof_dictionary.items():\n",
    "        if (key != prof_name):\n",
    "            print(f'NAME: {key}\\tSALARY: {value}')\n",
    "            counter += 1\n",
    "            if prof_name is None and prof_salary is None:\n",
    "                if counter == limit:\n",
    "                    break\n",
    "            else:\n",
    "                if counter == limit-1:\n",
    "                    break\n",
    "    if prof_name is not None and prof_salary is not None:\n",
    "        print(f'NAME: {prof_name}\\tSALARY: {prof_dictionary[prof_name]}')\n",
    "    \n",
    "\n",
    "prof_dictionary = {\n",
    "    'MASTER BUTEN' : 690000,\n",
    "    'THE PROFESSOR' : 80000,\n",
    "    'ZION WILLIAMSON': 460000,\n",
    "    'LEBRON JAMES': 3200000,\n",
    "    'MISTER OLAF III': 5000000,\n",
    "    'JOHN CENA JR': 68000,\n",
    "    'LEBRON JAMES II' : 90000,\n",
    "    'STEPHEN CURRY': 80000,\n",
    "    'STEVEN ADAM': 70000,\n",
    "    'LUKA DONCIC': 80000,\n",
    "    'REY MAGDAYO': 75000,\n",
    "    'LOK LOK LOK': 411414,\n",
    "    'RENATO BATUMAKAL': 241465\n",
    "}\n",
    "print('The initial database: ')\n",
    "show_feu_professor(prof_dictionary=prof_dictionary)\n",
    "will_proceed = input(\"\\nWould you like to search for the professor? (y,n)\").upper()\n",
    "if (will_proceed == 'Y'):\n",
    "    prof_name = input('Name of the professor: ').upper()\n",
    "    if prof_name not in prof_dictionary:\n",
    "        print('Name of the professor not found in database')\n",
    "        while True:\n",
    "            prof_salary = input('Enter the salary of the professor: ')\n",
    "            if int(prof_salary)<70000:\n",
    "                print('Salary should be at least 70000')\n",
    "            else:\n",
    "                break\n",
    "    else:\n",
    "        print('Name of the professor already on database\\nNo need to input the sallary')\n",
    "    while True:\n",
    "        limit = int(input('Enter the number of professors to display: '))\n",
    "        if limit < 5:\n",
    "            print('The number should be more than 5')\n",
    "        elif limit>len(prof_dictionary)+1:\n",
    "            print('The number of professors to display exceeded the number of professors in the database')\n",
    "        else:\n",
    "            break\n",
    "    print(\"\")\n",
    "    show_feu_professor(prof_dictionary=prof_dictionary, prof_name=prof_name, prof_salary=prof_salary, limit=limit)\n"
   ]
  }
 ],
 "metadata": {
  "kernelspec": {
   "display_name": "Python 3",
   "language": "python",
   "name": "python3"
  },
  "language_info": {
   "codemirror_mode": {
    "name": "ipython",
    "version": 3
   },
   "file_extension": ".py",
   "mimetype": "text/x-python",
   "name": "python",
   "nbconvert_exporter": "python",
   "pygments_lexer": "ipython3",
   "version": "3.10.6"
  },
  "orig_nbformat": 4,
  "vscode": {
   "interpreter": {
    "hash": "26de051ba29f2982a8de78e945f0abaf191376122a1563185a90213a26c5da77"
   }
  }
 },
 "nbformat": 4,
 "nbformat_minor": 2
}
