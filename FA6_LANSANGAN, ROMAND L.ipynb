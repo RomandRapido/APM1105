{
 "cells": [
  {
   "cell_type": "code",
   "execution_count": 128,
   "metadata": {},
   "outputs": [
    {
     "name": "stdout",
     "output_type": "stream",
     "text": [
      "6.0^4.0=1296.0\n",
      "Time taken using iterative_exponent(6.0, 4.0): 2.70000055024866e-06 seconds\n",
      "\n",
      "6.0^4.0=1296.0\n",
      "Time taken using recursive_exponent(6.0, 4.0): 4.0000013541430235e-06 seconds\n",
      "\n",
      "iterative_exponent function is faster than recursive_exponent function with 1.3000008038943633e-06 difference in time(in sec)\n"
     ]
    }
   ],
   "source": [
    "import time\n",
    "def iterative_exponent(base, exp):\n",
    "    base = float(base)\n",
    "    exp = float(exp)\n",
    "    i=1\n",
    "    if exp < 0:\n",
    "        base = 1/base\n",
    "        exp = exp*-1\n",
    "    elif exp == 0:\n",
    "        return 1\n",
    "    orig_base = base\n",
    "    if base == 0 and exp <= 0:\n",
    "        return f'{base}^{exp} is undefined'\n",
    "    while (i<=exp-1):\n",
    "        base = base*orig_base\n",
    "        i+=1\n",
    "    return base\n",
    "\n",
    "\n",
    "def recursive_exponent(base, exp, orig_base=None):\n",
    "    base = float(base)\n",
    "    exp = float(exp)\n",
    "    if exp < 0:\n",
    "        base = 1/base\n",
    "        exp = exp*-1\n",
    "    if base == 0 and exp <= 0:\n",
    "        return f'{base}^{exp} is undefined'\n",
    "    if orig_base is None:\n",
    "        orig_base = base\n",
    "    original_base = orig_base\n",
    "    if exp == 0:\n",
    "        return 1\n",
    "    if exp == 1:\n",
    "        return base\n",
    "    else:\n",
    "        return recursive_exponent(base=base*orig_base, exp=exp-1, orig_base=original_base)\n",
    "\n",
    "\n",
    "def run_time_exp(function, base, exp):\n",
    "    start_time = time.perf_counter()\n",
    "    result = function(base, exp)\n",
    "    end_time = time.perf_counter()\n",
    "    final_time = end_time - start_time\n",
    "    if function == iterative_exponent:\n",
    "        return [f'{base}^{exp}={result}\\nTime taken using iterative_exponent({base}, {exp}): {final_time} seconds', final_time]\n",
    "    elif function == recursive_exponent:\n",
    "        return [f'{base}^{exp}={result}\\nTime taken using recursive_exponent({base}, {exp}): {final_time} seconds', final_time]\n",
    "    \n",
    "base = float(input('Input base: '))\n",
    "exp = float(input('Input exponent: '))\n",
    "ite = run_time_exp(iterative_exponent, base, exp)\n",
    "rec = run_time_exp(recursive_exponent, base, exp)\n",
    "print(ite[0] + '\\n')\n",
    "print(rec[0] + '\\n')\n",
    "if ite[1] < rec[1]:\n",
    "    print(f'iterative_exponent function is faster than recursive_exponent function with {rec[1]-ite[1]} difference in time(in sec)')\n",
    "elif ite[1] > rec[1]:\n",
    "    print(f'recursive_exponent function is faster than iterative_exponent function with {ite[1]-rec[1]} difference in time(in sec)')\n",
    "else:\n",
    "    print(\"Both the recursive_exponent function and iterative_exponent function have the same running time\")"
   ]
  },
  {
   "attachments": {},
   "cell_type": "markdown",
   "metadata": {},
   "source": [
    "Question:\n",
    "\n",
    "Which of the two functions performs faster? And why is it performing faster?\n",
    "\n",
    "Answer:\n",
    "The iterative function seems to be performing faster for it is written in a pretty straight forward and efficient way while recursive function needs to ask for many requirements before it could proceed (IFs and ELSEIFs)"
   ]
  },
  {
   "cell_type": "code",
   "execution_count": 131,
   "metadata": {},
   "outputs": [
    {
     "name": "stdout",
     "output_type": "stream",
     "text": [
      "The sum of powers of 2 using iteration for n = 20 is 2097151\n",
      "Time taken using iteration: 8.39999847812578e-06 seconds\n",
      "\n",
      "The sum of powers of 2 using recursive for n = 20 is 2097151\n",
      "Time taken using iteration: 1.2699998478638008e-05 seconds\n",
      "\n",
      "Iterative_exponent function is faster than recursive_exponent function with 4.300000000512227e-06 difference in time(in sec)\n"
     ]
    }
   ],
   "source": [
    "import time\n",
    "def iterative_sum(n):\n",
    "    sum = 0\n",
    "    for i in range(n+1):\n",
    "        sum = sum + 2**i\n",
    "    return sum\n",
    "\n",
    "\n",
    "def recursive_sum(n, result=0):    \n",
    "    if n<0:\n",
    "        return result\n",
    "    else:\n",
    "        result = result + 2**n\n",
    "        return recursive_sum(n-1, result=result)\n",
    "\n",
    "def run_time_exp(function, n):\n",
    "    start_time = time.perf_counter()\n",
    "    result = function(n)\n",
    "    end_time = time.perf_counter()\n",
    "    final_time = end_time - start_time\n",
    "    if function == iterative_sum:\n",
    "        return [f'The sum of powers of 2 using iteration for n = {n} is {result}\\nTime taken using iteration: {final_time} seconds', final_time]\n",
    "    elif function == recursive_sum:\n",
    "        return [f'The sum of powers of 2 using recursive for n = {n} is {result}\\nTime taken using iteration: {final_time} seconds', final_time]\n",
    "    \n",
    "\n",
    "\n",
    "n = int(input('Enter the value of n: '))\n",
    "ite_sum = run_time_exp(iterative_sum, n)\n",
    "rec_sum = run_time_exp(recursive_sum, n)\n",
    "\n",
    "print(ite_sum[0] + '\\n')\n",
    "print(rec_sum[0] + '\\n')\n",
    "if ite_sum[1] < rec_sum[1]:\n",
    "    print(f'Iterative_exponent function is faster than recursive_exponent function with {rec_sum[1]-ite_sum[1]} difference in time(in sec)')\n",
    "elif ite_sum[1] > rec_sum[1]:\n",
    "    print(f'Recursive_exponent function is faster than iterative_exponent function with {ite_sum[1]-rec_sum[1]} difference in time(in sec)')\n",
    "else:\n",
    "    print(\"Both the recursive_exponent function and iterative_exponent function have the same running time\")"
   ]
  },
  {
   "attachments": {},
   "cell_type": "markdown",
   "metadata": {},
   "source": [
    "Question:\n",
    "\n",
    "Which of the two functions performs faster? And why is it performing faster?\n",
    "\n",
    "Answer: (same as the first one)\n",
    "The iterative function seems to be performing faster for it is written in a pretty straight forward and efficient way while recursive function needs to ask for many requirements before it could proceed (IFs and ELSEIFs)\n",
    "\n",
    "\n",
    "ps. Maybe its because I am more adept to using iterative appoach than recursive so I have written code that is more efficient. But despite that fact, I can at least say with assurance that in this particular problem, using iterative approach is the more efficient and less processing space/time consuming."
   ]
  }
 ],
 "metadata": {
  "kernelspec": {
   "display_name": "Python 3",
   "language": "python",
   "name": "python3"
  },
  "language_info": {
   "codemirror_mode": {
    "name": "ipython",
    "version": 3
   },
   "file_extension": ".py",
   "mimetype": "text/x-python",
   "name": "python",
   "nbconvert_exporter": "python",
   "pygments_lexer": "ipython3",
   "version": "3.10.10"
  },
  "orig_nbformat": 4
 },
 "nbformat": 4,
 "nbformat_minor": 2
}
